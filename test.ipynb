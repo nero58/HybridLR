{
 "cells": [
  {
   "cell_type": "code",
   "execution_count": 3,
   "metadata": {},
   "outputs": [],
   "source": [
    "from check_para import Check_para \n",
    "import seaborn as sns\n",
    "import random\n",
    "from Algos import LinearRegression,MultiLinearRegression\n",
    "import csv\n",
    "import pandas as pd"
   ]
  },
  {
   "cell_type": "code",
   "execution_count": 4,
   "metadata": {},
   "outputs": [
    {
     "name": "stdout",
     "output_type": "stream",
     "text": [
      "     total_bill   tip     sex smoker   day    time  size\n",
      "0         16.99  1.01  Female     No   Sun  Dinner     2\n",
      "1         10.34  1.66    Male     No   Sun  Dinner     3\n",
      "2         21.01  3.50    Male     No   Sun  Dinner     3\n",
      "3         23.68  3.31    Male     No   Sun  Dinner     2\n",
      "4         24.59  3.61  Female     No   Sun  Dinner     4\n",
      "..          ...   ...     ...    ...   ...     ...   ...\n",
      "239       29.03  5.92    Male     No   Sat  Dinner     3\n",
      "240       27.18  2.00  Female    Yes   Sat  Dinner     2\n",
      "241       22.67  2.00    Male    Yes   Sat  Dinner     2\n",
      "242       17.82  1.75    Male     No   Sat  Dinner     2\n",
      "243       18.78  3.00  Female     No  Thur  Dinner     2\n",
      "\n",
      "[244 rows x 7 columns]\n",
      "Index(['total_bill', 'tip', 'sex', 'smoker', 'day', 'time', 'size'], dtype='object')\n"
     ]
    },
    {
     "ename": "AttributeError",
     "evalue": "'Check_para' object has no attribute 'x_'",
     "output_type": "error",
     "traceback": [
      "\u001b[1;31m---------------------------------------------------------------------------\u001b[0m",
      "\u001b[1;31mAttributeError\u001b[0m                            Traceback (most recent call last)",
      "\u001b[1;32mc:\\Users\\Deepak Yadav\\OneDrive\\Desktop\\Hybridreg\\test.ipynb Cell 2\u001b[0m in \u001b[0;36m4\n\u001b[0;32m     <a href='vscode-notebook-cell:/c%3A/Users/Deepak%20Yadav/OneDrive/Desktop/Hybridreg/test.ipynb#W1sZmlsZQ%3D%3D?line=45'>46</a>\u001b[0m     new\u001b[39m.\u001b[39mapply_default()\n\u001b[0;32m     <a href='vscode-notebook-cell:/c%3A/Users/Deepak%20Yadav/OneDrive/Desktop/Hybridreg/test.ipynb#W1sZmlsZQ%3D%3D?line=47'>48</a>\u001b[0m \u001b[39mif\u001b[39;00m \u001b[39m__name__\u001b[39m \u001b[39m==\u001b[39m \u001b[39m\"\u001b[39m\u001b[39m__main__\u001b[39m\u001b[39m\"\u001b[39m:\n\u001b[1;32m---> <a href='vscode-notebook-cell:/c%3A/Users/Deepak%20Yadav/OneDrive/Desktop/Hybridreg/test.ipynb#W1sZmlsZQ%3D%3D?line=48'>49</a>\u001b[0m      main()\n",
      "\u001b[1;32mc:\\Users\\Deepak Yadav\\OneDrive\\Desktop\\Hybridreg\\test.ipynb Cell 2\u001b[0m in \u001b[0;36m4\n\u001b[0;32m     <a href='vscode-notebook-cell:/c%3A/Users/Deepak%20Yadav/OneDrive/Desktop/Hybridreg/test.ipynb#W1sZmlsZQ%3D%3D?line=43'>44</a>\u001b[0m new \u001b[39m=\u001b[39m Default()\n\u001b[0;32m     <a href='vscode-notebook-cell:/c%3A/Users/Deepak%20Yadav/OneDrive/Desktop/Hybridreg/test.ipynb#W1sZmlsZQ%3D%3D?line=44'>45</a>\u001b[0m \u001b[39mprint\u001b[39m(new\u001b[39m.\u001b[39mLinear_dataset())\n\u001b[1;32m---> <a href='vscode-notebook-cell:/c%3A/Users/Deepak%20Yadav/OneDrive/Desktop/Hybridreg/test.ipynb#W1sZmlsZQ%3D%3D?line=45'>46</a>\u001b[0m new\u001b[39m.\u001b[39;49mapply_default()\n",
      "\u001b[1;32mc:\\Users\\Deepak Yadav\\OneDrive\\Desktop\\Hybridreg\\test.ipynb Cell 2\u001b[0m in \u001b[0;36m2\n\u001b[0;32m     <a href='vscode-notebook-cell:/c%3A/Users/Deepak%20Yadav/OneDrive/Desktop/Hybridreg/test.ipynb#W1sZmlsZQ%3D%3D?line=21'>22</a>\u001b[0m \u001b[39mprint\u001b[39m(\u001b[39mself\u001b[39m\u001b[39m.\u001b[39mdefault\u001b[39m.\u001b[39mdf_\u001b[39m.\u001b[39mcolumns)\n\u001b[0;32m     <a href='vscode-notebook-cell:/c%3A/Users/Deepak%20Yadav/OneDrive/Desktop/Hybridreg/test.ipynb#W1sZmlsZQ%3D%3D?line=22'>23</a>\u001b[0m \u001b[39mself\u001b[39m\u001b[39m.\u001b[39mdefault\u001b[39m.\u001b[39mcheck_target()\n\u001b[1;32m---> <a href='vscode-notebook-cell:/c%3A/Users/Deepak%20Yadav/OneDrive/Desktop/Hybridreg/test.ipynb#W1sZmlsZQ%3D%3D?line=24'>25</a>\u001b[0m \u001b[39mself\u001b[39;49m\u001b[39m.\u001b[39;49mdefault\u001b[39m.\u001b[39;49mxy_change_type()   \n\u001b[0;32m     <a href='vscode-notebook-cell:/c%3A/Users/Deepak%20Yadav/OneDrive/Desktop/Hybridreg/test.ipynb#W1sZmlsZQ%3D%3D?line=25'>26</a>\u001b[0m \u001b[39mprint\u001b[39m(\u001b[39mself\u001b[39m\u001b[39m.\u001b[39mdefault\u001b[39m.\u001b[39mdf_\u001b[39m.\u001b[39mcolumns)\n",
      "File \u001b[1;32mc:\\Users\\Deepak Yadav\\OneDrive\\Desktop\\Hybridreg\\check_para.py:111\u001b[0m, in \u001b[0;36mCheck_para.xy_change_type\u001b[1;34m(self)\u001b[0m\n\u001b[0;32m    109\u001b[0m      \u001b[39mself\u001b[39m\u001b[39m.\u001b[39mx_\u001b[39m=\u001b[39mx\u001b[39m.\u001b[39mastype(\u001b[39mint\u001b[39m)\n\u001b[0;32m    110\u001b[0m      \u001b[39mself\u001b[39m\u001b[39m.\u001b[39my_\u001b[39m=\u001b[39my\u001b[39m.\u001b[39mcopy()\n\u001b[1;32m--> 111\u001b[0m \u001b[39mreturn\u001b[39;00m \u001b[39mself\u001b[39;49m\u001b[39m.\u001b[39;49mx_,\u001b[39mself\u001b[39m\u001b[39m.\u001b[39my_\n",
      "\u001b[1;31mAttributeError\u001b[0m: 'Check_para' object has no attribute 'x_'"
     ]
    }
   ],
   "source": [
    "from check_para import Check_para \n",
    "import seaborn as sns\n",
    "import random\n",
    "\n",
    "class Default(Check_para):\n",
    "    def __init__(self):\n",
    "        super().__init__()\n",
    "\n",
    "    def Linear_dataset(self):\n",
    "        flight = sns.load_dataset('flights').replace({'Jan': 1, 'Feb': 2, 'Mar': 3, 'Apr': 4, 'May': 5, 'Jun': 6, 'Jul': 7, 'Aug': 8, 'Sep': 9, 'Oct': 10, 'Nov': 11, 'Dec': 12})\n",
    "        car_crash = sns.load_dataset('car_crashes').drop(['abbrev'], axis=1)\n",
    "        tips=sns.load_dataset('tips')\n",
    "        datasets = [flight, car_crash, tips]\n",
    "        self.default_data=random.choice(datasets)\n",
    "        return self.default_data\n",
    "        \n",
    "        \n",
    "    def apply_default(self):\n",
    "            # return self.random_data\n",
    "            self.default = Check_para(data=self.default_data)  \n",
    "            self.default.read_csv()\n",
    "            print(self.default.df_.columns)\n",
    "            self.default.check_target()\n",
    "\n",
    "            self.default.xy_change_type()   \n",
    "            print(self.default.df_.columns)\n",
    "            \n",
    "            # self.default.check_score()\n",
    "            \n",
    "            # self.default.check_OF()\n",
    "            # self.default.train_test_split()  \n",
    "            # self.default.return_para()\n",
    "            # if len(self.default.x_train.columns)>1:\n",
    "            #      self.mlr=MultiLinearRegression()\n",
    "            #      self.mlr.fit(self.default.x_,self.default.y_)\n",
    "            #      self.mlr.predict(self.default.x_test)\n",
    "            # else:\n",
    "            #      self.lr=LinearRegression()\n",
    "            #      self.lr.fit(self.default.x_,self.default.y_)\n",
    "            #      self.lr.predict(self.default.x_test)\n",
    "\n",
    "\n",
    "def main():  \n",
    "    new = Default()\n",
    "    print(new.Linear_dataset())\n",
    "    new.apply_default()\n",
    "\n",
    "if __name__ == \"__main__\":\n",
    "     main()\n",
    "\n"
   ]
  },
  {
   "cell_type": "code",
   "execution_count": null,
   "metadata": {},
   "outputs": [],
   "source": []
  }
 ],
 "metadata": {
  "kernelspec": {
   "display_name": "Python 3",
   "language": "python",
   "name": "python3"
  },
  "language_info": {
   "codemirror_mode": {
    "name": "ipython",
    "version": 3
   },
   "file_extension": ".py",
   "mimetype": "text/x-python",
   "name": "python",
   "nbconvert_exporter": "python",
   "pygments_lexer": "ipython3",
   "version": "3.10.7"
  },
  "orig_nbformat": 4
 },
 "nbformat": 4,
 "nbformat_minor": 2
}
