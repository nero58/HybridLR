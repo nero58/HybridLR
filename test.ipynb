{
 "cells": [
  {
   "cell_type": "code",
   "execution_count": 37,
   "metadata": {},
   "outputs": [],
   "source": [
    "from check_para import Check_para \n",
    "import seaborn as sns\n",
    "import random\n",
    "from Algos import LinearRegression,MultiLinearRegression\n",
    "import csv\n",
    "import pandas as pd"
   ]
  },
  {
   "cell_type": "code",
   "execution_count": 38,
   "metadata": {},
   "outputs": [
    {
     "name": "stdout",
     "output_type": "stream",
     "text": [
      "[[16.99 1.01 'Female' 'No' 'Sun' 'Dinner']\n",
      " [10.34 1.66 'Male' 'No' 'Sun' 'Dinner']\n",
      " [21.01 3.5 'Male' 'No' 'Sun' 'Dinner']\n",
      " ...\n",
      " [22.67 2.0 'Male' 'Yes' 'Sat' 'Dinner']\n",
      " [17.82 1.75 'Male' 'No' 'Sat' 'Dinner']\n",
      " [18.78 3.0 'Female' 'No' 'Thur' 'Dinner']] [2 3 3 2 4 4 2 4 2 2 2 4 2 4 2 2 3 3 3 3 2 2 2 4 2 4 2 2 2 2 2 4 2 4 2 3 3\n",
      " 3 3 3 3 2 2 2 4 2 2 4 3 2 2 2 4 2 4 2 4 2 2 4 2 2 2 4 3 3 2 1 2 2 2 3 2 2\n",
      " 2 2 2 4 2 2 2 2 1 2 2 4 2 2 2 2 2 2 2 2 2 4 2 2 2 2 2 2 3 2 2 2 2 2 2 2 2\n",
      " 1 3 2 3 2 4 2 2 4 2 2 2 2 2 6 2 2 2 3 2 2 2 2 2 2 2 2 2 2 2 6 5 6 2 2 3 2\n",
      " 2 2 2 2 3 4 4 5 6 4 2 4 4 2 3 2 2 3 2 4 2 2 3 2 2 2 2 2 2 2 2 2 4 2 3 4 2\n",
      " 5 3 5 3 3 2 2 2 2 2 2 2 4 2 2 3 2 2 2 4 3 3 4 2 2 3 4 4 2 3 2 5 2 2 4 2 2\n",
      " 1 3 2 2 2 4 2 2 4 3 2 2 2 2 2 2 3 3 2 2 2 2]\n"
     ]
    }
   ],
   "source": [
    "from check_para import Check_para \n",
    "import seaborn as sns\n",
    "import random\n",
    "\n",
    "class Default(Check_para):\n",
    "    def __init__(self):\n",
    "        super().__init__()\n",
    "\n",
    "    def Linear_dataset(self):\n",
    "        flight = sns.load_dataset('flights').replace({'Jan': 1, 'Feb': 2, 'Mar': 3, 'Apr': 4, 'May': 5, 'Jun': 6, 'Jul': 7, 'Aug': 8, 'Sep': 9, 'Oct': 10, 'Nov': 11, 'Dec': 12})\n",
    "        car_crash = sns.load_dataset('car_crashes').drop(['abbrev'], axis=1)\n",
    "        tips=sns.load_dataset('tips')\n",
    "        datasets = [flight, car_crash, tips]\n",
    "        self.default_data=random.choice(datasets)\n",
    "        return self.default_data\n",
    "        \n",
    "        \n",
    "    def apply_default(self):\n",
    "            # return self.random_data\n",
    "            self.default = Check_para(data=self.default_data)  \n",
    "            self.default.read_csv()\n",
    "            # print(self.default.df_.columns)\n",
    "            self.default.check_target()\n",
    "            self.default.xy_change_type()   \n",
    "            print(self.default.x,self.default.y)\n",
    "            # print(self.default.x_,self.default.y_)\n",
    "            \n",
    "            # self.default.check_score()\n",
    "            \n",
    "            # self.default.check_OF()\n",
    "            # self.default.train_test_split()  \n",
    "            # self.default.return_para()\n",
    "            # if len(self.default.x_train.columns)>1:\n",
    "            #      self.mlr=MultiLinearRegression()\n",
    "            #      self.mlr.fit(self.default.x_,self.default.y_)\n",
    "            #      self.mlr.predict(self.default.x_test)\n",
    "            # else:\n",
    "            #      self.lr=LinearRegression()\n",
    "            #      self.lr.fit(self.default.x_,self.default.y_)\n",
    "            #      self.lr.predict(self.default.x_test)\n",
    "\n",
    "\n",
    "def main():  \n",
    "    new = Default()\n",
    "    new.Linear_dataset()\n",
    "    new.apply_default()\n",
    "\n",
    "if __name__ == \"__main__\":\n",
    "     main()\n",
    "\n"
   ]
  },
  {
   "cell_type": "code",
   "execution_count": null,
   "metadata": {},
   "outputs": [],
   "source": []
  }
 ],
 "metadata": {
  "kernelspec": {
   "display_name": "Python 3",
   "language": "python",
   "name": "python3"
  },
  "language_info": {
   "codemirror_mode": {
    "name": "ipython",
    "version": 3
   },
   "file_extension": ".py",
   "mimetype": "text/x-python",
   "name": "python",
   "nbconvert_exporter": "python",
   "pygments_lexer": "ipython3",
   "version": "3.10.7"
  },
  "orig_nbformat": 4
 },
 "nbformat": 4,
 "nbformat_minor": 2
}
