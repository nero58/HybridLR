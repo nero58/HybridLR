{
 "cells": [
  {
   "cell_type": "code",
   "execution_count": 9,
   "metadata": {},
   "outputs": [
    {
     "ename": "AttributeError",
     "evalue": "'Default' object has no attribute 'default_data'",
     "output_type": "error",
     "traceback": [
      "\u001b[1;31m---------------------------------------------------------------------------\u001b[0m",
      "\u001b[1;31mAttributeError\u001b[0m                            Traceback (most recent call last)",
      "\u001b[1;32mc:\\Users\\Deepak Yadav\\OneDrive\\Desktop\\Hybridreg\\test.ipynb Cell 1\u001b[0m in \u001b[0;36m4\n\u001b[0;32m     <a href='vscode-notebook-cell:/c%3A/Users/Deepak%20Yadav/OneDrive/Desktop/Hybridreg/test.ipynb#W0sZmlsZQ%3D%3D?line=34'>35</a>\u001b[0m             \u001b[39m#      default_dataset=dataset()\u001b[39;00m\n\u001b[0;32m     <a href='vscode-notebook-cell:/c%3A/Users/Deepak%20Yadav/OneDrive/Desktop/Hybridreg/test.ipynb#W0sZmlsZQ%3D%3D?line=35'>36</a>\u001b[0m             \u001b[39m#      print(default_dataset.Linear_dataset())\u001b[39;00m\n\u001b[0;32m     <a href='vscode-notebook-cell:/c%3A/Users/Deepak%20Yadav/OneDrive/Desktop/Hybridreg/test.ipynb#W0sZmlsZQ%3D%3D?line=36'>37</a>\u001b[0m             \u001b[39m# default.read_csv()\u001b[39;00m\n\u001b[1;32m   (...)\u001b[0m\n\u001b[0;32m     <a href='vscode-notebook-cell:/c%3A/Users/Deepak%20Yadav/OneDrive/Desktop/Hybridreg/test.ipynb#W0sZmlsZQ%3D%3D?line=40'>41</a>\u001b[0m     \u001b[39m# print(default.x_train)\u001b[39;00m\n\u001b[0;32m     <a href='vscode-notebook-cell:/c%3A/Users/Deepak%20Yadav/OneDrive/Desktop/Hybridreg/test.ipynb#W0sZmlsZQ%3D%3D?line=41'>42</a>\u001b[0m     \u001b[39m# print(default.return_para())\u001b[39;00m\n\u001b[0;32m     <a href='vscode-notebook-cell:/c%3A/Users/Deepak%20Yadav/OneDrive/Desktop/Hybridreg/test.ipynb#W0sZmlsZQ%3D%3D?line=46'>47</a>\u001b[0m new\u001b[39m=\u001b[39m Default()\n\u001b[1;32m---> <a href='vscode-notebook-cell:/c%3A/Users/Deepak%20Yadav/OneDrive/Desktop/Hybridreg/test.ipynb#W0sZmlsZQ%3D%3D?line=47'>48</a>\u001b[0m new\u001b[39m.\u001b[39;49mapply_default()\n",
      "\u001b[1;32mc:\\Users\\Deepak Yadav\\OneDrive\\Desktop\\Hybridreg\\test.ipynb Cell 1\u001b[0m in \u001b[0;36m2\n\u001b[0;32m     <a href='vscode-notebook-cell:/c%3A/Users/Deepak%20Yadav/OneDrive/Desktop/Hybridreg/test.ipynb#W0sZmlsZQ%3D%3D?line=19'>20</a>\u001b[0m \u001b[39mdef\u001b[39;00m \u001b[39mapply_default\u001b[39m(\u001b[39mself\u001b[39m):   \n\u001b[0;32m     <a href='vscode-notebook-cell:/c%3A/Users/Deepak%20Yadav/OneDrive/Desktop/Hybridreg/test.ipynb#W0sZmlsZQ%3D%3D?line=20'>21</a>\u001b[0m    \u001b[39mif\u001b[39;00m \u001b[39mself\u001b[39m\u001b[39m.\u001b[39mdata \u001b[39m==\u001b[39m \u001b[39m'\u001b[39m\u001b[39mdefault\u001b[39m\u001b[39m'\u001b[39m:\n\u001b[1;32m---> <a href='vscode-notebook-cell:/c%3A/Users/Deepak%20Yadav/OneDrive/Desktop/Hybridreg/test.ipynb#W0sZmlsZQ%3D%3D?line=21'>22</a>\u001b[0m            default\u001b[39m=\u001b[39mCheck_para(\u001b[39mself\u001b[39;49m\u001b[39m.\u001b[39;49mdefault_data,target\u001b[39m=\u001b[39m\u001b[39mself\u001b[39m\u001b[39m.\u001b[39mdefault_data\u001b[39m.\u001b[39mcolumns[\u001b[39m-\u001b[39m\u001b[39m1\u001b[39m]) \n\u001b[0;32m     <a href='vscode-notebook-cell:/c%3A/Users/Deepak%20Yadav/OneDrive/Desktop/Hybridreg/test.ipynb#W0sZmlsZQ%3D%3D?line=22'>23</a>\u001b[0m            default\u001b[39m.\u001b[39mread_csv()\n\u001b[0;32m     <a href='vscode-notebook-cell:/c%3A/Users/Deepak%20Yadav/OneDrive/Desktop/Hybridreg/test.ipynb#W0sZmlsZQ%3D%3D?line=23'>24</a>\u001b[0m            default\u001b[39m.\u001b[39mcheck_target()\n",
      "\u001b[1;31mAttributeError\u001b[0m: 'Default' object has no attribute 'default_data'"
     ]
    }
   ],
   "source": [
    "from check_para import Check_para\n",
    "import seaborn as sns\n",
    "import random\n",
    "\n",
    "class Default(Check_para):\n",
    "     def __init__(self):\n",
    "        super().__init__()\n",
    "\n",
    "     def Linear_dataset(self):\n",
    "        flight = sns.load_dataset('flights').replace({'Jan': 1, 'Feb':2,'Mar':3,'Apr':4,'May':5,'Jun':6,'Jul':7,'Aug':8,'Sep':9,'Oct':10,'Nov':11,'Dec':12}) \n",
    "        anscombe = sns.load_dataset('anscombe').replace({'I':1,'II':2,'III':3,'IV':4})\n",
    "\n",
    "        car_crash = sns.load_dataset('car_crashes').drop(['abbrev'], axis=1)\n",
    "        dowjones = sns.load_dataset('dowjones')\n",
    "        seaice = sns.load_dataset('seaice')\n",
    "        datasets = [flight, anscombe, car_crash, dowjones, seaice]\n",
    "        self.default_data = random.choice(datasets)\n",
    "       \n",
    "    \n",
    "     def apply_default(self):   \n",
    "        if self.data == 'default':\n",
    "                default=Check_para(self.default_data,target=self.default_data.columns[-1]) \n",
    "                default.read_csv()\n",
    "                default.check_target()\n",
    "                default.check_score()\n",
    "                default.check_OF()\n",
    "                default.xy_change_type()\n",
    "                default.train_test_split()\n",
    "                print(default.x_train,default.y_train)\n",
    "\n",
    "\n",
    "\n",
    "                \n",
    "\n",
    "            #      default_dataset=dataset()\n",
    "            #      print(default_dataset.Linear_dataset())\n",
    "            # default.read_csv()\n",
    "            # print(default.train_test_split())\n",
    "                #  default.check_test_size()\n",
    "    \n",
    "    # print(default.x_train)\n",
    "    # print(default.return_para())\n",
    "\n",
    "\n",
    "\n",
    "\n",
    "new= Default()\n",
    "new.apply_default()\n",
    "\n",
    "\n",
    "\n",
    "\n"
   ]
  },
  {
   "cell_type": "code",
   "execution_count": null,
   "metadata": {},
   "outputs": [],
   "source": []
  },
  {
   "cell_type": "code",
   "execution_count": null,
   "metadata": {},
   "outputs": [],
   "source": [
    "def train_test_split(self):\n",
    "         split_index=round(self.test_size*len(self.x_))\n",
    "     #     random_split=[random.randint(0,split_index) for _ in range(split_index)]\n",
    "         print('hello')\n",
    "         self.x_train=self.x_.iloc[0:split_index,:]\n",
    "         self.x_test=self.x_.iloc[split_index+1:,:]\n",
    "\n",
    "         self.y_train=self.y_.iloc[split_index]\n",
    "         self.y_test=self.y_.iloc[split_index+1:]\n",
    "         return self.x_train,self.y_train,self.y_train,self.y_test"
   ]
  }
 ],
 "metadata": {
  "kernelspec": {
   "display_name": "Python 3",
   "language": "python",
   "name": "python3"
  },
  "language_info": {
   "codemirror_mode": {
    "name": "ipython",
    "version": 3
   },
   "file_extension": ".py",
   "mimetype": "text/x-python",
   "name": "python",
   "nbconvert_exporter": "python",
   "pygments_lexer": "ipython3",
   "version": "3.10.7"
  },
  "orig_nbformat": 4
 },
 "nbformat": 4,
 "nbformat_minor": 2
}
