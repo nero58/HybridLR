{
 "cells": [
  {
   "cell_type": "code",
   "execution_count": 6,
   "metadata": {},
   "outputs": [
    {
     "name": "stdout",
     "output_type": "stream",
     "text": [
      "Looking in indexes: https://test.pypi.org/simple/\n",
      "Collecting mlhybridx==2.7.0\n",
      "  Obtaining dependency information for mlhybridx==2.7.0 from https://test-files.pythonhosted.org/packages/6d/f3/6cec1129e858fe2cf110f2eb0ab4fea0277bb65c05283852493eb0fceea3/mlhybridx-2.7.0-py3-none-any.whl.metadata\n",
      "  Downloading https://test-files.pythonhosted.org/packages/6d/f3/6cec1129e858fe2cf110f2eb0ab4fea0277bb65c05283852493eb0fceea3/mlhybridx-2.7.0-py3-none-any.whl.metadata (9.7 kB)\n",
      "Requirement already satisfied: scikit-learn in c:\\python311\\lib\\site-packages (from mlhybridx==2.7.0) (1.3.0)\n",
      "Requirement already satisfied: pandas in c:\\python311\\lib\\site-packages (from mlhybridx==2.7.0) (2.0.3)\n",
      "Requirement already satisfied: numpy in c:\\python311\\lib\\site-packages (from mlhybridx==2.7.0) (1.25.0)\n",
      "Requirement already satisfied: seaborn in c:\\python311\\lib\\site-packages (from mlhybridx==2.7.0) (0.12.2)\n",
      "Requirement already satisfied: python-dateutil>=2.8.2 in c:\\python311\\lib\\site-packages (from pandas->mlhybridx==2.7.0) (2.8.2)\n",
      "Requirement already satisfied: pytz>=2020.1 in c:\\python311\\lib\\site-packages (from pandas->mlhybridx==2.7.0) (2023.3)\n",
      "Requirement already satisfied: tzdata>=2022.1 in c:\\python311\\lib\\site-packages (from pandas->mlhybridx==2.7.0) (2023.3)\n",
      "Requirement already satisfied: scipy>=1.5.0 in c:\\python311\\lib\\site-packages (from scikit-learn->mlhybridx==2.7.0) (1.11.1)\n",
      "Requirement already satisfied: joblib>=1.1.1 in c:\\python311\\lib\\site-packages (from scikit-learn->mlhybridx==2.7.0) (1.1.1)\n",
      "Requirement already satisfied: threadpoolctl>=2.0.0 in c:\\python311\\lib\\site-packages (from scikit-learn->mlhybridx==2.7.0) (3.2.0)\n",
      "Requirement already satisfied: matplotlib!=3.6.1,>=3.1 in c:\\python311\\lib\\site-packages (from seaborn->mlhybridx==2.7.0) (3.7.1)\n",
      "Requirement already satisfied: contourpy>=1.0.1 in c:\\python311\\lib\\site-packages (from matplotlib!=3.6.1,>=3.1->seaborn->mlhybridx==2.7.0) (1.1.0)\n",
      "Requirement already satisfied: cycler>=0.10 in c:\\python311\\lib\\site-packages (from matplotlib!=3.6.1,>=3.1->seaborn->mlhybridx==2.7.0) (0.11.0)\n",
      "Requirement already satisfied: fonttools>=4.22.0 in c:\\python311\\lib\\site-packages (from matplotlib!=3.6.1,>=3.1->seaborn->mlhybridx==2.7.0) (4.40.0)\n",
      "Requirement already satisfied: kiwisolver>=1.0.1 in c:\\python311\\lib\\site-packages (from matplotlib!=3.6.1,>=3.1->seaborn->mlhybridx==2.7.0) (1.4.4)\n",
      "Requirement already satisfied: packaging>=20.0 in c:\\python311\\lib\\site-packages (from matplotlib!=3.6.1,>=3.1->seaborn->mlhybridx==2.7.0) (23.1)\n",
      "Requirement already satisfied: pillow>=6.2.0 in c:\\python311\\lib\\site-packages (from matplotlib!=3.6.1,>=3.1->seaborn->mlhybridx==2.7.0) (9.5.0)\n",
      "Requirement already satisfied: pyparsing>=2.3.1 in c:\\python311\\lib\\site-packages (from matplotlib!=3.6.1,>=3.1->seaborn->mlhybridx==2.7.0) (3.1.0)\n",
      "Requirement already satisfied: six>=1.5 in c:\\python311\\lib\\site-packages (from python-dateutil>=2.8.2->pandas->mlhybridx==2.7.0) (1.16.0)\n",
      "Downloading https://test-files.pythonhosted.org/packages/6d/f3/6cec1129e858fe2cf110f2eb0ab4fea0277bb65c05283852493eb0fceea3/mlhybridx-2.7.0-py3-none-any.whl (15 kB)\n",
      "Installing collected packages: mlhybridx\n",
      "  Attempting uninstall: mlhybridx\n",
      "    Found existing installation: mlhybridx 2.6.0\n",
      "    Uninstalling mlhybridx-2.6.0:\n",
      "      Successfully uninstalled mlhybridx-2.6.0\n",
      "Successfully installed mlhybridx-2.7.0\n"
     ]
    }
   ],
   "source": [
    "!pip install -i https://test.pypi.org/simple/ mlhybridx==2.7.0"
   ]
  },
  {
   "cell_type": "code",
   "execution_count": 9,
   "metadata": {},
   "outputs": [],
   "source": [
    "from mlhybridx import EasyRegressor"
   ]
  },
  {
   "cell_type": "code",
   "execution_count": null,
   "metadata": {},
   "outputs": [],
   "source": []
  }
 ],
 "metadata": {
  "kernelspec": {
   "display_name": "hundred",
   "language": "python",
   "name": "python3"
  },
  "language_info": {
   "codemirror_mode": {
    "name": "ipython",
    "version": 3
   },
   "file_extension": ".py",
   "mimetype": "text/x-python",
   "name": "python",
   "nbconvert_exporter": "python",
   "pygments_lexer": "ipython3",
   "version": "3.11.4"
  },
  "orig_nbformat": 4
 },
 "nbformat": 4,
 "nbformat_minor": 2
}
